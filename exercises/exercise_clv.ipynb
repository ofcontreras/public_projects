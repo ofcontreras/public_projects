{
 "cells": [
  {
   "cell_type": "code",
   "execution_count": 1,
   "metadata": {},
   "outputs": [],
   "source": [
    "import pandas as pd\n",
    "import numpy as np\n",
    "import matplotlib.pyplot as plt\n",
    "import seaborn as sns\n",
    "import lifetimes\n",
    "sns.set_style('darkgrid')\n",
    "%matplotlib inline\n",
    "pd.options.display.max_rows = 10"
   ]
  },
  {
   "attachments": {},
   "cell_type": "markdown",
   "metadata": {},
   "source": [
    "There are two classes of business contexts that influence how a data scientist should go about modeling customer lifetime value:\n",
    "\n",
    "* Whether purchases are discrete (i.e., transactions can occur only at fixed points in time) or continuous.\n",
    "\n",
    "* Whether the setting is contractual or non-contractual (this determines whether customer churn is visible or must be inferred).\n",
    "\n",
    "In this example I'll assume that we have a contractual, discrete time setting. We use the SBG (\"shifted-beta-geometric\") model.\n",
    "\n",
    "For continuous-time contractual settings, we have the exponential-gamma (EG) model.\n",
    "For continuous-time noncontractual settings, we have the Pareto/NBD (Schmittlein, Morrison, & Colombo, 1987) and BG/ NBD (Fader, Hardie, & Lee, 2005) models.\n",
    "For discrete-time noncontractual settings, we have the BG/BB model (Fader, Hardie, & Berger, 2004)."
   ]
  },
  {
   "cell_type": "code",
   "execution_count": null,
   "metadata": {},
   "outputs": [],
   "source": [
    "#%pip install git+https://github.com/pymc-labs/pymc-marketing.git"
   ]
  }
 ],
 "metadata": {
  "kernelspec": {
   "display_name": "base",
   "language": "python",
   "name": "python3"
  },
  "language_info": {
   "codemirror_mode": {
    "name": "ipython",
    "version": 3
   },
   "file_extension": ".py",
   "mimetype": "text/x-python",
   "name": "python",
   "nbconvert_exporter": "python",
   "pygments_lexer": "ipython3",
   "version": "3.10.10"
  },
  "orig_nbformat": 4
 },
 "nbformat": 4,
 "nbformat_minor": 2
}
